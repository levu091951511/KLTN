{
 "cells": [
  {
   "cell_type": "code",
   "execution_count": 217,
   "id": "ae40a914-d6a4-468b-8cba-79cf9de0f9a2",
   "metadata": {},
   "outputs": [],
   "source": [
    "from pyspark.sql import SparkSession\n",
    "from pyspark.sql.functions import to_timestamp, to_date, split, when, col, lag, lpad, sum, mean, row_number, round, count, abs, regexp_extract, date_format, lit, expr, max as spark_max, min as spark_min\n",
    "from datetime import datetime, timedelta\n",
    "from pyspark.sql.window import Window\n",
    "from pyspark.sql import functions as F"
   ]
  },
  {
   "cell_type": "code",
   "execution_count": 218,
   "id": "3a3cc8a3-c890-459e-adb1-b98d4e299202",
   "metadata": {},
   "outputs": [],
   "source": [
    "spark = SparkSession.builder \\\n",
    "    .appName(\"chibao\") \\\n",
    "    .config(\"spark.cores.max\", \"2\") \\\n",
    "    .config(\"spark.executor.memory\", \"4g\") \\\n",
    "    .getOrCreate()"
   ]
  },
  {
   "cell_type": "code",
   "execution_count": 219,
   "id": "5a46c10d-fb07-486e-902d-c6075a99a07c",
   "metadata": {},
   "outputs": [],
   "source": [
    "# Đọc dữ liệu từ bảng nguồn machungkhoan\n",
    "df_lichsugia = spark.read.format(\"iceberg\").load(\"stock_db.datn_lichsugia\")"
   ]
  },
  {
   "cell_type": "code",
   "execution_count": 220,
   "id": "f990fe8c-2178-42cb-8908-cdd6fba7e313",
   "metadata": {},
   "outputs": [],
   "source": [
    "# Convert 'ngay' to DateType\n",
    "df_lichsugia1= df_lichsugia.withColumn(\"ngay\", to_timestamp(col(\"ngay\"), \"dd/MM/yyyy\"))"
   ]
  },
  {
   "cell_type": "code",
   "execution_count": 221,
   "id": "eee4355c-1520-4ec8-af43-24a63d1ad075",
   "metadata": {},
   "outputs": [],
   "source": [
    "# Select and rename columns to match the schema of 'fact_price_history'\n",
    "df_fact_price_history = df_lichsugia1.select(\n",
    "    col(\"symbol\").alias(\"MaChungKhoan\"),\n",
    "    col(\"ngay\").alias(\"NgayGiaoDich\"),\n",
    "    col(\"giamocua\").alias(\"GiaMo\").cast(\"bigint\"),\n",
    "    col(\"giadongcua\").alias(\"GiaDong\").cast(\"bigint\"),\n",
    "    col(\"giacaonhat\").alias(\"GiaCaoNhat\").cast(\"bigint\"),\n",
    "    col(\"giathapnhat\").alias(\"GiaThapNhat\").cast(\"bigint\"),\n",
    "    col(\"khoiluongkhoplenh\").alias(\"KhoiLuong\").cast(\"bigint\")\n",
    ")"
   ]
  },
  {
   "cell_type": "code",
   "execution_count": 222,
   "id": "a3423a06-11dc-4153-bdcc-72a09d48aa39",
   "metadata": {},
   "outputs": [],
   "source": [
    "# Chuẩn hóa lại đơn vị từ nghìn VNĐ sang VNĐ cho các cột giá\n",
    "df_fact_price_history_filtered1 = df_fact_price_history.withColumn(\"GiaMo\", col(\"GiaMo\") * 1000) \\\n",
    "       .withColumn(\"GiaDong\", col(\"GiaDong\") * 1000) \\\n",
    "       .withColumn(\"GiaCaoNhat\", col(\"GiaCaoNhat\") * 1000) \\\n",
    "       .withColumn(\"GiaThapNhat\", col(\"GiaThapNhat\") * 1000)"
   ]
  },
  {
   "cell_type": "code",
   "execution_count": 223,
   "id": "38b5cd29-9a23-451f-ac30-a9abb8dfa604",
   "metadata": {},
   "outputs": [
    {
     "name": "stdout",
     "output_type": "stream",
     "text": [
      "+------------+-------------------+-----+-------+----------+-----------+---------+\n",
      "|MaChungKhoan|       NgayGiaoDich|GiaMo|GiaDong|GiaCaoNhat|GiaThapNhat|KhoiLuong|\n",
      "+------------+-------------------+-----+-------+----------+-----------+---------+\n",
      "|         VTZ|2024-05-31 00:00:00| 8000|   8000|      8000|       8000|   301822|\n",
      "|         VTZ|2024-05-30 00:00:00| 8000|   8000|      8000|       8000|   278526|\n",
      "|         VTZ|2024-05-29 00:00:00| 8000|   8000|      8000|       8000|   273500|\n",
      "|         VTZ|2024-05-28 00:00:00| 8000|   8000|      8000|       8000|   265927|\n",
      "|         VTZ|2024-05-27 00:00:00| 8000|   8000|      8000|       8000|   274000|\n",
      "|         VTZ|2024-05-24 00:00:00| 8000|   8000|      8000|       8000|   265100|\n",
      "|         VTZ|2024-05-23 00:00:00| 8000|   8000|      8000|       8000|   274000|\n",
      "|         VTZ|2024-05-22 00:00:00| 8000|   8000|      8000|       8000|   269342|\n",
      "|         VTZ|2024-05-21 00:00:00| 8000|   8000|      8000|       8000|   273200|\n",
      "|         VTZ|2024-05-20 00:00:00| 8000|   8000|      8000|       8000|   202600|\n",
      "|         VTZ|2024-05-17 00:00:00| 8000|   8000|      8000|       8000|   271920|\n",
      "|         VTZ|2024-05-16 00:00:00| 8000|   8000|      8000|       8000|   242300|\n",
      "|         VTZ|2024-05-15 00:00:00| 8000|   8000|      8000|       8000|   221200|\n",
      "|         VTZ|2024-05-14 00:00:00| 8000|   8000|      8000|       8000|   251450|\n",
      "|         VTZ|2024-05-13 00:00:00| 8000|   8000|      8000|       8000|   182100|\n",
      "|         VTZ|2024-05-10 00:00:00| 8000|   8000|      8000|       8000|   209400|\n",
      "|         VTZ|2024-05-09 00:00:00| 8000|   8000|      8000|       8000|    79600|\n",
      "|         VTZ|2024-05-08 00:00:00| 8000|   8000|      8000|       8000|   226700|\n",
      "|         VTZ|2024-05-07 00:00:00| 8000|   8000|      8000|       8000|   143800|\n",
      "|         VTZ|2024-05-06 00:00:00| 8000|   8000|      8000|       8000|    86100|\n",
      "+------------+-------------------+-----+-------+----------+-----------+---------+\n",
      "only showing top 20 rows\n",
      "\n"
     ]
    }
   ],
   "source": [
    "df_fact_price_history_filtered1.show()"
   ]
  },
  {
   "cell_type": "code",
   "execution_count": 224,
   "id": "01fc73c3-7191-4c33-a6e6-ae16160b1e8b",
   "metadata": {},
   "outputs": [],
   "source": [
    "# # Đọc dữ liệu từ bảng nguồn machungkhoan\n",
    "# df_machungkhoan = spark.read.format(\"iceberg\").load(\"stock_db.datn_machungkhoan\")"
   ]
  },
  {
   "cell_type": "code",
   "execution_count": 225,
   "id": "53f7a598-dc16-4406-9bdf-c812e27d0d07",
   "metadata": {},
   "outputs": [],
   "source": [
    "list_ma_chung_khoan = ['AAA', 'BMC', 'BMP', 'FPT', 'NSC', 'PAC', 'BMC', 'TCT', 'TRC', 'VNM', 'VSC', 'GHA', 'HCT', 'HHC', 'NHC', 'NTP', 'GHA', 'S55', 'SAF', 'SCJ', 'VDL']   "
   ]
  },
  {
   "cell_type": "code",
   "execution_count": 226,
   "id": "624885e1-d2c0-4edb-a29d-2bf3d8a0ccf3",
   "metadata": {},
   "outputs": [],
   "source": [
    "df_machungkhoan = df_fact_price_history_filtered1.filter(col('MaChungKhoan').isin(list_ma_chung_khoan))"
   ]
  },
  {
   "cell_type": "code",
   "execution_count": 227,
   "id": "f9531dba-a637-46b9-859c-d55091d290b0",
   "metadata": {},
   "outputs": [],
   "source": [
    "df = df_machungkhoan"
   ]
  },
  {
   "cell_type": "code",
   "execution_count": 228,
   "id": "a3c91b4b-37bd-43ed-a664-b9a218b10532",
   "metadata": {},
   "outputs": [],
   "source": [
    "# -------------------Tinh toán OBV-----------------------"
   ]
  },
  {
   "cell_type": "code",
   "execution_count": 229,
   "id": "95f9e951-293a-4e52-96db-d4dfb3037f4f",
   "metadata": {},
   "outputs": [],
   "source": [
    "# Khung cửa sổ để truy cập giá đóng cửa và khối lượng của phiên trước đó\n",
    "window_spec = Window.partitionBy(\"MaChungKhoan\").orderBy(col(\"NgayGiaoDich\").asc())\n",
    "\n",
    "# Lấy giá đóng cửa và khối lượng của phiên trước đó\n",
    "df_with_prev = df.withColumn(\"GiaDongHomTruoc\", lag(\"GiaDong\").over(window_spec)) \\\n",
    "    .withColumn(\"KhoiLuongHomTruoc\", lag(\"KhoiLuong\").over(window_spec))"
   ]
  },
  {
   "cell_type": "code",
   "execution_count": 231,
   "id": "7e10f695-d6e1-4999-a332-59f7a4b9fb00",
   "metadata": {},
   "outputs": [],
   "source": [
    "# Tính toán OBV\n",
    "df_with_obv = df_with_prev.withColumn(\"OBV_change\",\n",
    "    when(col(\"GiaDongHomTruoc\").isNull(), 0).  # Ngày đầu tiên\n",
    "    otherwise(when(col(\"GiaDong\") > col(\"GiaDongHomTruoc\"), col(\"KhoiLuong\")).\n",
    "              when(col(\"GiaDong\") < col(\"GiaDongHomTruoc\"), -col(\"KhoiLuong\")).\n",
    "              otherwise(0))\n",
    ")"
   ]
  },
  {
   "cell_type": "code",
   "execution_count": 232,
   "id": "824857cb-aacf-48ef-9c8a-aa5dbcf85582",
   "metadata": {},
   "outputs": [],
   "source": [
    "# Tính tổng OBV\n",
    "df_with_obv = df_with_obv.withColumn(\"OBV\", sum(\"OBV_change\").over(window_spec))"
   ]
  },
  {
   "cell_type": "code",
   "execution_count": 233,
   "id": "9a90f746-dda5-46b1-abb7-49ead57fa148",
   "metadata": {},
   "outputs": [],
   "source": [
    "indicator_data_obv = df_with_obv.select(\n",
    "    col(\"MaChungKhoan\"),\n",
    "    col(\"NgayGiaoDich\"),\n",
    "    col(\"OBV\").alias(\"GiaTriChiBao\"),\n",
    "    lit(\"OBV\").alias(\"LoaiChiBao\")\n",
    ")"
   ]
  },
  {
   "cell_type": "code",
   "execution_count": 234,
   "id": "c9e380a6-f779-46dc-9a35-6bfcbf0e4dd8",
   "metadata": {},
   "outputs": [],
   "source": [
    "# ----------------------------------Tính toán RSI---------------------------------"
   ]
  },
  {
   "cell_type": "code",
   "execution_count": 235,
   "id": "6ca7957b-4bcb-445e-860e-030bfb2498bd",
   "metadata": {},
   "outputs": [],
   "source": [
    "# Define window specifications\n",
    "windowSpec_Aroonup_Aroondown = Window.partitionBy(\"MaChungKhoan\").orderBy(col(\"NgayGiaoDich\").cast(\"long\")).rowsBetween(-13, 0)"
   ]
  },
  {
   "cell_type": "code",
   "execution_count": 236,
   "id": "770e29cb-38ad-4704-9919-544e2109984e",
   "metadata": {},
   "outputs": [],
   "source": [
    "# Tính rolling max và rolling min\n",
    "df_with_rolling = df.withColumn(\"rolling_max\", spark_max(\"GiaCaoNhat\").over(windowSpec_Aroonup_Aroondown)) \\\n",
    "                    .withColumn(\"rolling_min\", spark_min(\"GiaThapNhat\").over(windowSpec_Aroonup_Aroondown))"
   ]
  },
  {
   "cell_type": "code",
   "execution_count": 237,
   "id": "da3f2262-30e9-4523-9147-e79a485a1d0f",
   "metadata": {},
   "outputs": [],
   "source": [
    "\n",
    "# Tìm số ngày kể từ khi đạt giá cao nhất và thấp nhất trong 14 ngày\n",
    "df_with_days_since = df_with_rolling.withColumn(\"row_num\", row_number().over(Window.partitionBy(\"MaChungKhoan\").orderBy(col(\"NgayGiaoDich\").asc()))) \\\n",
    "                                    .withColumn(\"days_since_max\", col(\"row_num\") - max(when(col(\"GiaCaoNhat\") == col(\"rolling_max\"), col(\"row_num\"))).over(windowSpec_Aroonup_Aroondown)) \\\n",
    "                                    .withColumn(\"days_since_min\", col(\"row_num\") - max(when(col(\"GiaThapNhat\") == col(\"rolling_min\"), col(\"row_num\"))).over(windowSpec_Aroonup_Aroondown))\n",
    "\n"
   ]
  },
  {
   "cell_type": "code",
   "execution_count": 239,
   "id": "c1f1a98a-e7ef-434d-9bbd-a75cdc59cb6c",
   "metadata": {},
   "outputs": [],
   "source": [
    "# Tính toán Aroon Up và Aroon Down\n",
    "df_with_aroon = df_with_days_since.withColumn(\"Aroon_Up\", expr(\"100 * (14 - days_since_max) / 14\")) \\\n",
    "                                  .withColumn(\"Aroon_Down\", expr(\"100 * (14 - days_since_min) / 14\"))"
   ]
  },
  {
   "cell_type": "code",
   "execution_count": 240,
   "id": "3aeef7b5-b7ae-4b46-a693-f314146f5ce8",
   "metadata": {},
   "outputs": [],
   "source": [
    "df_with_aroon1 = df_with_aroon.filter(col(\"Aroon_Up\").isNotNull() & col(\"Aroon_Down\").isNotNull())"
   ]
  },
  {
   "cell_type": "code",
   "execution_count": 241,
   "id": "37921cda-4995-40b2-8b89-afeafe7c609b",
   "metadata": {},
   "outputs": [],
   "source": [
    "# Select required columns\n",
    "aroon_data = df_with_aroon1.select(\n",
    "    col(\"MaChungKhoan\"),\n",
    "    col(\"NgayGiaoDich\"),\n",
    "    col(\"Aroon_Up\").alias(\"GiaTriChiBao\"),\n",
    "    lit(\"Aroon_Up\").alias(\"LoaiChiBao\")\n",
    ").union(\n",
    "    df_with_aroon.select(\n",
    "        col(\"MaChungKhoan\"),\n",
    "        col(\"NgayGiaoDich\"),\n",
    "        col(\"Aroon_Down\").alias(\"GiaTriChiBao\"),\n",
    "        lit(\"Aroon_Down\").alias(\"LoaiChiBao\")\n",
    "    )\n",
    ")\n"
   ]
  },
  {
   "cell_type": "code",
   "execution_count": null,
   "id": "91c981a0-f809-4b74-9afe-a199a9a2b2b2",
   "metadata": {},
   "outputs": [],
   "source": []
  },
  {
   "cell_type": "code",
   "execution_count": 242,
   "id": "e5185a6b-4bfb-4556-99ce-4e174f2293a9",
   "metadata": {},
   "outputs": [],
   "source": [
    "# ------------------Tinh toán chỉ báo A/D--------------------------"
   ]
  },
  {
   "cell_type": "code",
   "execution_count": 243,
   "id": "365f31b0-7994-42f9-a22a-9347259fe9ad",
   "metadata": {},
   "outputs": [],
   "source": [
    "# Tính toán giá trị A/D cho từng ngày, xử lý trường hợp mẫu số bằng 0\n",
    "df_with_ad_calculator = df.withColumn(\n",
    "    \"A/D\",\n",
    "    when(\n",
    "        (col(\"GiaCaoNhat\") - col(\"GiaThapNhat\")) != 0,\n",
    "        (((col(\"GiaDong\") - col(\"GiaThapNhat\")) - (col(\"GiaCaoNhat\") - col(\"GiaDong\"))) * col(\"KhoiLuong\")) / (col(\"GiaCaoNhat\") - col(\"GiaThapNhat\"))\n",
    "    ).otherwise(0)\n",
    ")\n"
   ]
  },
  {
   "cell_type": "code",
   "execution_count": 244,
   "id": "00f2e15f-47a4-4832-98cc-477d90f82806",
   "metadata": {},
   "outputs": [],
   "source": [
    "# Định nghĩa indicatorid và chuẩn bị dữ liệu\n",
    "indicator_data_ad = df_with_ad_calculator.select(\n",
    "    col(\"MaChungKhoan\"),\n",
    "    col(\"NgayGiaoDich\"),\n",
    "    col(\"A/D\").alias(\"GiaTriChiBao\"),\n",
    "    lit(\"A/D\").alias(\"LoaiChiBao\")  # Giả sử 2 là ID cho A/D\n",
    ")"
   ]
  },
  {
   "cell_type": "code",
   "execution_count": 245,
   "id": "3fcdc471-8b13-4571-81d7-c5834f1ea8c7",
   "metadata": {},
   "outputs": [
    {
     "ename": "SyntaxError",
     "evalue": "invalid syntax (2281667820.py, line 1)",
     "output_type": "error",
     "traceback": [
      "\u001b[0;36m  Cell \u001b[0;32mIn[245], line 1\u001b[0;36m\u001b[0m\n\u001b[0;31m    ------------------------------------- Tính toán EMA-------------------------------------\u001b[0m\n\u001b[0m                                               ^\u001b[0m\n\u001b[0;31mSyntaxError\u001b[0m\u001b[0;31m:\u001b[0m invalid syntax\n"
     ]
    }
   ],
   "source": [
    "------------------------------------- Tính toán EMA-------------------------------------"
   ]
  },
  {
   "cell_type": "code",
   "execution_count": 246,
   "id": "c6ac6bef-604e-4a86-9a5f-3d302f440201",
   "metadata": {},
   "outputs": [],
   "source": [
    "from pyspark.sql.window import Window\n",
    "import pyspark.sql.functions as F\n",
    "from pyspark.sql.types import DoubleType\n",
    "\n",
    "def calculate_ema(df, period, column='GiaDong'):\n",
    "    \"\"\"\n",
    "    Calculate the Exponential Moving Average (EMA) for a given period.\n",
    "    \n",
    "    :param df: The DataFrame containing stock price data\n",
    "    :param period: The period for which EMA is calculated\n",
    "    :param column: The column name for which EMA is calculated\n",
    "    :return: DataFrame with EMA values\n",
    "    \"\"\"\n",
    "    alpha = 2 / (period + 1)\n",
    "    \n",
    "    windowSpec = Window.partitionBy(\"MaChungKhoan\").orderBy(\"NgayGiaoDich\")\n",
    "\n",
    "    # Calculate initial SMA (Simple Moving Average)\n",
    "    sma_window_spec = Window.partitionBy(\"MaChungKhoan\").orderBy(\"NgayGiaoDich\").rowsBetween(-period + 1, 0)\n",
    "    df = df.withColumn('SMA', F.avg(column).over(sma_window_spec))\n",
    "    \n",
    "    # Initialize EMA column\n",
    "    df = df.withColumn('EMA', F.lit(None).cast(DoubleType()))\n",
    "\n",
    "    # Calculate EMA using iterative approach\n",
    "    def calculate_ema_iter(closeprice, previous_ema, alpha):\n",
    "        if previous_ema is None:\n",
    "            return closeprice\n",
    "        return (closeprice * alpha) + (previous_ema * (1 - alpha))\n",
    "\n",
    "    # Define UDF for EMA calculation\n",
    "    ema_udf = F.udf(lambda closeprice, previous_ema: calculate_ema_iter(closeprice, previous_ema, alpha), DoubleType())\n",
    "\n",
    "    # Apply UDF to calculate EMA iteratively\n",
    "    df = df.withColumn('EMA', F.coalesce(\n",
    "        ema_udf(col(column), lag(col('EMA')).over(windowSpec)),\n",
    "        col('SMA')\n",
    "    ))\n",
    "    \n",
    "    return df.drop('SMA')"
   ]
  },
  {
   "cell_type": "code",
   "execution_count": 247,
   "id": "62d5c1df-8a1d-47be-ac46-1300dd1706cd",
   "metadata": {},
   "outputs": [],
   "source": [
    "# Apply the EMA calculation\n",
    "period = 20\n",
    "df_with_ema = calculate_ema(df, period)\n",
    "\n",
    "# Select required columns\n",
    "ema_data_20 = df_with_ema.select(\n",
    "    col(\"MaChungKhoan\"),\n",
    "    col(\"NgayGiaoDich\"),\n",
    "    col(\"EMA\").alias(\"GiaTriChiBao\"),\n",
    "    lit(\"EMA\" + str(period)).alias(\"LoaiChiBao\")  # Giả sử 5 là ID cho EMA\n",
    ")\n"
   ]
  },
  {
   "cell_type": "code",
   "execution_count": 248,
   "id": "c4cf7e31-69f0-4bc5-b1fc-97af135fb613",
   "metadata": {},
   "outputs": [],
   "source": [
    "# Apply the EMA calculation\n",
    "period = 50\n",
    "df_with_ema = calculate_ema(df, period)\n",
    "\n",
    "# Select required columns\n",
    "ema_data_50 = df_with_ema.select(\n",
    "    col(\"MaChungKhoan\"),\n",
    "    col(\"NgayGiaoDich\"),\n",
    "    col(\"EMA\").alias(\"GiaTriChiBao\"),\n",
    "    lit(\"EMA\" + str(period)).alias(\"LoaiChiBao\")  # Giả sử 5 là ID cho EMA\n",
    ")\n"
   ]
  },
  {
   "cell_type": "code",
   "execution_count": 249,
   "id": "2bb33fc6-0536-48b9-807d-2411729498bf",
   "metadata": {},
   "outputs": [],
   "source": [
    "# Apply the EMA calculation\n",
    "period = 200\n",
    "df_with_ema = calculate_ema(df, period)\n",
    "\n",
    "# Select required columns\n",
    "ema_data_200 = df_with_ema.select(\n",
    "    col(\"MaChungKhoan\"),\n",
    "    col(\"NgayGiaoDich\"),\n",
    "    col(\"EMA\").alias(\"GiaTriChiBao\"),\n",
    "    lit(\"EMA\" + str(period)).alias(\"LoaiChiBao\")  # Giả sử 5 là ID cho EMA\n",
    ")\n"
   ]
  },
  {
   "cell_type": "code",
   "execution_count": null,
   "id": "a0030ac2-fd8f-46b0-9e23-02147c183dbd",
   "metadata": {},
   "outputs": [],
   "source": []
  },
  {
   "cell_type": "code",
   "execution_count": 251,
   "id": "b4afba29-2c63-4a82-9377-658c54cf8031",
   "metadata": {},
   "outputs": [],
   "source": [
    "# -----------------------------------Tinh toan chi bao RS-----------------------------------------"
   ]
  },
  {
   "cell_type": "code",
   "execution_count": 252,
   "id": "74ea5e01-753d-4298-b513-71c6445558c7",
   "metadata": {},
   "outputs": [],
   "source": [
    "def calculate_rs(df, period, column='GiaDong'):\n",
    "    \"\"\"\n",
    "    Calculate the Relative Strength (RS) for a given period.\n",
    "    \n",
    "    :param df: The DataFrame containing stock price data\n",
    "    :param period: The period for which RS is calculated\n",
    "    :param column: The column name for which RS is calculated\n",
    "    :return: DataFrame with RS values\n",
    "    \"\"\"\n",
    "    windowSpec = Window.partitionBy(\"MaChungKhoan\").orderBy(\"NgayGiaoDich\")\n",
    "\n",
    "    # Calculate price change\n",
    "    df = df.withColumn(\"price_change\", col(column) - lag(col(column)).over(windowSpec))\n",
    "\n",
    "    # Separate gains and losses\n",
    "    df = df.withColumn(\"gain\", F.when(col(\"price_change\") > 0, col(\"price_change\")).otherwise(0))\n",
    "    df = df.withColumn(\"loss\", F.when(col(\"price_change\") < 0, -col(\"price_change\")).otherwise(0))\n",
    "\n",
    "    # Calculate average gains and losses\n",
    "    avg_gain_window_spec = Window.partitionBy(\"MaChungKhoan\").orderBy(\"NgayGiaoDich\").rowsBetween(-period + 1, 0)\n",
    "    df = df.withColumn(\"avg_gain\", F.avg(\"gain\").over(avg_gain_window_spec))\n",
    "    df = df.withColumn(\"avg_loss\", F.avg(\"loss\").over(avg_gain_window_spec))\n",
    "\n",
    "    # Calculate RS\n",
    "    df = df.withColumn(\"RS\", F.when((col(\"avg_loss\") != 0), col(\"avg_gain\") / col(\"avg_loss\")).otherwise(0))\n",
    "\n",
    "    return df"
   ]
  },
  {
   "cell_type": "code",
   "execution_count": 253,
   "id": "9d1b7830-6039-4174-8db5-7c00f2a3aa99",
   "metadata": {},
   "outputs": [],
   "source": [
    "# Apply the RS calculation\n",
    "rs_period = 14\n",
    "df_with_rs = calculate_rs(df, rs_period)\n",
    "\n",
    "# Select required columns\n",
    "rs_data = df_with_rs.select(\n",
    "    col(\"MaChungKhoan\"),\n",
    "    col(\"NgayGiaoDich\"),\n",
    "    col(\"RS\").alias(\"GiaTriChiBao\"),\n",
    "    lit('RS').alias(\"LoaiChiBao\")  # Giả sử 6 là ID cho MACD\n",
    ")\n"
   ]
  },
  {
   "cell_type": "code",
   "execution_count": 255,
   "id": "24656378-e694-4713-9be0-74eac067aec6",
   "metadata": {},
   "outputs": [],
   "source": [
    "# --------------------------Tinh toán chỉ báo RSI--------------------------------"
   ]
  },
  {
   "cell_type": "code",
   "execution_count": 256,
   "id": "6dd5e6c5-3a99-4301-9cea-0b16dbe8121c",
   "metadata": {},
   "outputs": [],
   "source": [
    "def calculate_rsi(df, period):\n",
    "    \"\"\"\n",
    "    Calculate the Relative Strength Index (RSI) for a given period.\n",
    "    \n",
    "    :param df: The DataFrame containing stock price data with RS values\n",
    "    :param period: The period for which RSI is calculated\n",
    "    :return: DataFrame with RSI values\n",
    "    \"\"\"\n",
    "    windowSpec = Window.partitionBy(\"MaChungKhoan\").orderBy(\"NgayGiaoDich\")\n",
    "\n",
    "    # Calculate RSI\n",
    "    df = df.withColumn(\"RSI\", 100 - (100 / (1 + col(\"RS\"))))\n",
    "\n",
    "    return df"
   ]
  },
  {
   "cell_type": "code",
   "execution_count": 257,
   "id": "9f1ab063-2f7d-4add-9913-5ec65fad0d96",
   "metadata": {},
   "outputs": [],
   "source": [
    "# Apply the RSI calculation\n",
    "rsi_period = 14\n",
    "df_with_rsi = calculate_rsi(df_with_rs, rsi_period)\n",
    "\n",
    "# Select required columns\n",
    "rsi_data = df_with_rsi.select(\n",
    "    col(\"MaChungKhoan\"),\n",
    "    col(\"NgayGiaoDich\"),\n",
    "    col(\"RSI\").alias(\"GiaTriChiBao\"),\n",
    "    lit(\"RSI\").alias(\"LoaiChiBao\")  # Giả sử 8 là ID cho RSI\n",
    ")"
   ]
  },
  {
   "cell_type": "code",
   "execution_count": 258,
   "id": "956607a6-4b37-460e-aef4-a918cd0e733d",
   "metadata": {},
   "outputs": [],
   "source": [
    "# Kết hợp tất cả các DataFrame chỉ số lại với nhau\n",
    "all_indicator_data = indicator_data_obv.union(aroon_data) \\\n",
    "    .union(indicator_data_ad) \\\n",
    "    .union(ema_data_20) \\\n",
    "    .union(ema_data_50) \\\n",
    "    .union(ema_data_200) \\\n",
    "    .union(rs_data) \\\n",
    "    .union(rsi_data)"
   ]
  },
  {
   "cell_type": "code",
   "execution_count": 263,
   "id": "a2af5988-f311-496e-8a5c-7ec3d96fd0d3",
   "metadata": {},
   "outputs": [],
   "source": [
    "# Loại bỏ các bản ghi có giá trị NULL trong cột GiaTriChiBao\n",
    "all_indicator_data1 = all_indicator_data.filter(col(\"GiaTriChiBao\").isNotNull())"
   ]
  },
  {
   "cell_type": "code",
   "execution_count": 264,
   "id": "18e50351-4d7b-4430-9e52-8e2bbe0701ff",
   "metadata": {},
   "outputs": [],
   "source": [
    "# Đổi tên cột LoaiChiBao thành TenChiBao\n",
    "all_indicator_data2 = all_indicator_data1.withColumnRenamed(\"LoaiChiBao\", \"TenChiBao\")\n"
   ]
  },
  {
   "cell_type": "code",
   "execution_count": 265,
   "id": "3ebfa5f8-4d2d-4137-a7f8-a355090384de",
   "metadata": {},
   "outputs": [
    {
     "name": "stderr",
     "output_type": "stream",
     "text": [
      "[Stage 166:===========================================>           (11 + 3) / 14]\r"
     ]
    },
    {
     "name": "stdout",
     "output_type": "stream",
     "text": [
      "+------------+-------------------+------------+---------+\n",
      "|MaChungKhoan|       NgayGiaoDich|GiaTriChiBao|TenChiBao|\n",
      "+------------+-------------------+------------+---------+\n",
      "|         AAA|2010-07-15 00:00:00|         0.0|      OBV|\n",
      "|         AAA|2010-07-16 00:00:00|   -109200.0|      OBV|\n",
      "|         AAA|2010-07-19 00:00:00|   -109200.0|      OBV|\n",
      "|         AAA|2010-07-20 00:00:00|   -437900.0|      OBV|\n",
      "|         AAA|2010-07-21 00:00:00|   -437900.0|      OBV|\n",
      "|         AAA|2010-07-22 00:00:00|   -437900.0|      OBV|\n",
      "|         AAA|2010-07-23 00:00:00|   -322100.0|      OBV|\n",
      "|         AAA|2010-07-26 00:00:00|   -453800.0|      OBV|\n",
      "|         AAA|2010-07-27 00:00:00|   -340900.0|      OBV|\n",
      "|         AAA|2010-07-28 00:00:00|   -405200.0|      OBV|\n",
      "|         AAA|2010-07-29 00:00:00|    103900.0|      OBV|\n",
      "|         AAA|2010-07-30 00:00:00|    450200.0|      OBV|\n",
      "|         AAA|2010-08-02 00:00:00|   -232600.0|      OBV|\n",
      "|         AAA|2010-08-03 00:00:00|    172400.0|      OBV|\n",
      "|         AAA|2010-08-04 00:00:00|    417400.0|      OBV|\n",
      "|         AAA|2010-08-05 00:00:00|    248300.0|      OBV|\n",
      "|         AAA|2010-08-06 00:00:00|    398300.0|      OBV|\n",
      "|         AAA|2010-08-09 00:00:00|    224800.0|      OBV|\n",
      "|         AAA|2010-08-10 00:00:00|    102500.0|      OBV|\n",
      "|         AAA|2010-08-11 00:00:00|    -65600.0|      OBV|\n",
      "+------------+-------------------+------------+---------+\n",
      "only showing top 20 rows\n",
      "\n"
     ]
    },
    {
     "name": "stderr",
     "output_type": "stream",
     "text": [
      "                                                                                \r"
     ]
    }
   ],
   "source": [
    "all_indicator_data2.show()"
   ]
  },
  {
   "cell_type": "code",
   "execution_count": 266,
   "id": "d1026f4a-db0f-4c2b-91f3-44edc9644755",
   "metadata": {},
   "outputs": [
    {
     "name": "stderr",
     "output_type": "stream",
     "text": [
      "                                                                                \r"
     ]
    }
   ],
   "source": [
    "# Ghi kết quả vào bảng `fact_stock_indicator`\n",
    "all_indicator_data2.write \\\n",
    "    .format(\"jdbc\") \\\n",
    "    .option(\"driver\", \"com.mysql.cj.jdbc.Driver\") \\\n",
    "    .option(\"url\", \"jdbc:mysql://10.168.6.106:3306/stock\") \\\n",
    "    .option(\"dbtable\", \"backend_factchibao\") \\\n",
    "    .option(\"user\", \"acc_etl\") \\\n",
    "    .option(\"password\", \"Vnpt123456\") \\\n",
    "    .mode(\"append\") \\\n",
    "    .save()"
   ]
  },
  {
   "cell_type": "code",
   "execution_count": null,
   "id": "5a05db7c-fd76-453d-9d35-4fe25633e4df",
   "metadata": {},
   "outputs": [],
   "source": []
  }
 ],
 "metadata": {
  "kernelspec": {
   "display_name": "Python 3 (ipykernel)",
   "language": "python",
   "name": "python3"
  },
  "language_info": {
   "codemirror_mode": {
    "name": "ipython",
    "version": 3
   },
   "file_extension": ".py",
   "mimetype": "text/x-python",
   "name": "python",
   "nbconvert_exporter": "python",
   "pygments_lexer": "ipython3",
   "version": "3.9.18"
  }
 },
 "nbformat": 4,
 "nbformat_minor": 5
}
