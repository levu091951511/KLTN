{
 "cells": [
  {
   "cell_type": "code",
   "execution_count": 7,
   "id": "4f1b2d3e-2661-4032-8e5a-bd85af7d956c",
   "metadata": {},
   "outputs": [],
   "source": [
    "from pyspark.sql import SparkSession\n",
    "from pyspark.sql.functions import to_timestamp, to_date, split, when, col, lag, lpad, sum, mean, round, count, abs, regexp_extract, date_format, lit, expr, max \n",
    "import numpy as np\n",
    "from datetime import datetime, timedelta\n",
    "from pyspark.sql.window import Window\n",
    "from pyspark.sql import functions as F"
   ]
  },
  {
   "cell_type": "code",
   "execution_count": 8,
   "id": "a180e6d7-a445-4bf0-85e1-bcb1e7cd3070",
   "metadata": {},
   "outputs": [],
   "source": [
    "spark = SparkSession.builder \\\n",
    "    .appName(\"machungkhoan\") \\\n",
    "    .config(\"spark.cores.max\", \"2\") \\\n",
    "    .config(\"spark.executor.memory\", \"4g\") \\\n",
    "    .getOrCreate()\n"
   ]
  },
  {
   "cell_type": "code",
   "execution_count": 9,
   "id": "312bce6c-35ea-48e7-9bc6-3b9281a49384",
   "metadata": {},
   "outputs": [],
   "source": [
    "# Đọc dữ liệu từ bảng nguồn machungkhoan\n",
    "df_lichsugia = spark.read.format(\"iceberg\").load(\"stock_db.datn_lichsugia\")\n",
    "# Đọc dữ liệu từ bảng nguồn machungkhoan\n",
    "df_machungkhoan = spark.read.format(\"iceberg\").load(\"stock_db.datn_machungkhoan\")"
   ]
  },
  {
   "cell_type": "code",
   "execution_count": 11,
   "id": "0c93d424-4984-4cdc-a397-e43ce4183179",
   "metadata": {},
   "outputs": [],
   "source": [
    "# Convert 'ngay' to DateType\n",
    "df_lichsugia = df_lichsugia.withColumn(\"ngay\", to_date(col(\"ngay\"), \"dd/MM/yyyy\"))\n",
    "\n",
    "# Convert 'ky_du_lieu' to TimestampType\n",
    "df_lichsugia = df_lichsugia.withColumn(\"ky_du_lieu\", to_timestamp(col(\"ky_du_lieu\"), \"dd/MM/yyyy HH:mm:ss\"))\n",
    "\n",
    "# Extract numeric values from 'thaydoi' and split into change and percentage change\n",
    "df_lichsugia = df_lichsugia.withColumn(\"thaydoi_value\", regexp_extract(col(\"thaydoi\"), r'([\\d\\.-]+)', 1).cast(\"float\"))\n",
    "df_lichsugia = df_lichsugia.withColumn(\"thaydoi_percent\", regexp_extract(col(\"thaydoi\"), r'\\(([\\d\\.-]+)%\\)', 1).cast(\"float\"))\n",
    "\n",
    "# Convert 'ngay' to 'dateid' in the format ddMMyyyy\n",
    "df_lichsugia = df_lichsugia.withColumn(\"dateid\", date_format(col(\"ngay\"), \"ddMMyyyy\").cast(\"int\"))\n"
   ]
  },
  {
   "cell_type": "code",
   "execution_count": 5,
   "id": "0b2fd05d-d834-47ee-9a9a-f962b47696e5",
   "metadata": {},
   "outputs": [
    {
     "name": "stderr",
     "output_type": "stream",
     "text": [
      "                                                                                \r"
     ]
    }
   ],
   "source": [
    "dim_stock_df  = df_machungkhoan.filter((col('categoryname').isNotNull()) & (col('categoryname') != \"\"))\n",
    "df_stock_drop_duplicate = dim_stock_df.dropDuplicates(['symbol'])\n",
    "# Tiếp theo, ghi dữ liệu vào bảng dim_stock\n",
    "dim_stock_data = df_stock_drop_duplicate.select(\n",
    "    col(\"symbol\").alias(\"stocksymbol\"),\n",
    "    \"companyname\",\n",
    "    \"categoryid\"\n",
    ").distinct()\n",
    "\n",
    "# Convert dim_stock_df to a list of stocksymbols\n",
    "valid_stocksymbols = [row.stocksymbol for row in dim_stock_data.select(\"stocksymbol\").distinct().collect()]"
   ]
  },
  {
   "cell_type": "code",
   "execution_count": null,
   "id": "dad1ef4f-a152-46db-9a61-dd009417d186",
   "metadata": {},
   "outputs": [],
   "source": [
    "# Select and rename columns to match the schema of 'fact_price_history'\n",
    "df_fact_price_history = df_lichsugia.select(\n",
    "    col(\"symbol\").alias(\"stocksymbol\"),\n",
    "    col(\"dateid\"),\n",
    "    col(\"giamocua\").alias(\"openprice\").cast(\"decimal(18, 2)\"),\n",
    "    col(\"giadongcua\").alias(\"closeprice\").cast(\"decimal(18, 2)\"),\n",
    "    col(\"giacaonhat\").alias(\"highprice\").cast(\"decimal(18, 2)\"),\n",
    "    col(\"giathapnhat\").alias(\"lowprice\").cast(\"decimal(18, 2)\"),\n",
    "    col(\"khoiluongkhoplenh\").alias(\"volume\").cast(\"bigint\")\n",
    ")"
   ]
  },
  {
   "cell_type": "code",
   "execution_count": null,
   "id": "ef9c4fdf-4ddc-4c03-acdd-d46fcc8e8db6",
   "metadata": {},
   "outputs": [],
   "source": [
    "# Đảm bảo df_fact_price_history đã được lọc để loại bỏ các giá trị null\n",
    "# Filter df_fact_price_history to only include valid stocksymbols\n",
    "df_fact_price_history_filtered = df_fact_price_history.filter(col(\"stocksymbol\").isin(valid_stocksymbols))\n",
    "# df_fact_price_history_filtered = df_fact_price_history_filtered.dropna(subset=[\"closeprice\", \"volume\", \"highprice\", \"lowprice\"])\n",
    "\n",
    "df_fact_price_history_filtered = df_fact_price_history_filtered.withColumn('dateid_padded', lpad(col('dateid').cast('string'), 8, '0'))\n",
    "df_fact_price_history_filtered = df_fact_price_history_filtered.withColumn('date', to_date(col('dateid_padded'), 'ddMMyyyy'))\n"
   ]
  },
  {
   "cell_type": "code",
   "execution_count": null,
   "id": "451b4fba-98e4-46e2-9bde-b525d72a3d6e",
   "metadata": {},
   "outputs": [],
   "source": [
    "# Khung cửa sổ để truy cập giá đóng cửa và khối lượng của phiên trước đó\n",
    "window_spec = Window.partitionBy(\"stocksymbol\").orderBy(col(\"date\").asc())\n",
    "\n",
    "# Lấy giá đóng cửa và khối lượng của phiên trước đó\n",
    "df_with_prev = df_fact_price_history_filtered.withColumn(\"prev_close\", lag(\"closeprice\").over(window_spec)) \\\n",
    "    .withColumn(\"prev_volume\", lag(\"volume\").over(window_spec))"
   ]
  }
 ],
 "metadata": {
  "kernelspec": {
   "display_name": "Python 3 (ipykernel)",
   "language": "python",
   "name": "python3"
  },
  "language_info": {
   "codemirror_mode": {
    "name": "ipython",
    "version": 3
   },
   "file_extension": ".py",
   "mimetype": "text/x-python",
   "name": "python",
   "nbconvert_exporter": "python",
   "pygments_lexer": "ipython3",
   "version": "3.9.18"
  }
 },
 "nbformat": 4,
 "nbformat_minor": 5
}
