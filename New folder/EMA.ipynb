{
 "cells": [
  {
   "cell_type": "code",
   "execution_count": 9,
   "id": "56d469ef-0054-4313-8f12-fb1531f00531",
   "metadata": {},
   "outputs": [],
   "source": [
    "from pyspark.sql import SparkSession\n",
    "from pyspark.sql.functions import col, to_date, lpad, lit, regexp_extract, date_format, lag\n",
    "\n",
    "# Khởi tạo SparkSession\n",
    "spark = SparkSession.builder \\\n",
    "    .appName(\"EMA Calculation\") \\\n",
    "    .config(\"spark.cores.max\", \"2\") \\\n",
    "    .config(\"spark.executor.memory\", \"4g\") \\\n",
    "    .getOrCreate()\n",
    "\n",
    "# Đọc dữ liệu từ bảng nguồn machungkhoan\n",
    "df_lichsugia = spark.read.format(\"iceberg\").load(\"stock_db.datn_lichsugia\")\n",
    "df_machungkhoan = spark.read.format(\"iceberg\").load(\"stock_db.datn_machungkhoan\")\n",
    "\n",
    "# Convert 'ngay' to DateType\n",
    "df_lichsugia = df_lichsugia.withColumn(\"ngay\", to_date(col(\"ngay\"), \"dd/MM/yyyy\"))\n",
    "\n",
    "# Extract numeric values from 'thaydoi' and split into change and percentage change\n",
    "df_lichsugia = df_lichsugia.withColumn(\"thaydoi_value\", regexp_extract(col(\"thaydoi\"), r'([\\d\\.-]+)', 1).cast(\"float\"))\n",
    "df_lichsugia = df_lichsugia.withColumn(\"thaydoi_percent\", regexp_extract(col(\"thaydoi\"), r'\\(([\\d\\.-]+)%\\)', 1).cast(\"float\"))\n",
    "\n",
    "# Convert 'ngay' to 'dateid' in the format ddMMyyyy\n",
    "df_lichsugia = df_lichsugia.withColumn(\"dateid\", date_format(col(\"ngay\"), \"ddMMyyyy\").cast(\"int\"))\n",
    "\n",
    "dim_stock_df = df_machungkhoan.filter((col('categoryname').isNotNull()) & (col('categoryname') != \"\"))\n",
    "df_stock_drop_duplicate = dim_stock_df.dropDuplicates(['symbol'])\n",
    "\n",
    "# Ghi dữ liệu vào bảng dim_stock\n",
    "dim_stock_data = df_stock_drop_duplicate.select(\n",
    "    col(\"symbol\").alias(\"stocksymbol\"),\n",
    "    \"companyname\",\n",
    "    \"categoryid\"\n",
    ").distinct()\n",
    "\n",
    "# Convert dim_stock_df to a list of stocksymbols\n",
    "valid_stocksymbols = [row.stocksymbol for row in dim_stock_data.select(\"stocksymbol\").distinct().collect()]\n",
    "\n",
    "# Select and rename columns to match the schema of 'fact_price_history'\n",
    "df_fact_price_history = df_lichsugia.select(\n",
    "    col(\"symbol\").alias(\"stocksymbol\"),\n",
    "    col(\"dateid\"),\n",
    "    col(\"giamocua\").alias(\"openprice\").cast(\"decimal(18, 2)\"),\n",
    "    col(\"giadongcua\").alias(\"closeprice\").cast(\"decimal(18, 2)\"),\n",
    "    col(\"giacaonhat\").alias(\"highprice\").cast(\"decimal(18, 2)\"),\n",
    "    col(\"giathapnhat\").alias(\"lowprice\").cast(\"decimal(18, 2)\"),\n",
    "    col(\"khoiluongkhoplenh\").alias(\"volume\").cast(\"bigint\")\n",
    ")\n",
    "\n",
    "# Đảm bảo df_fact_price_history đã được lọc để loại bỏ các giá trị null\n",
    "df_fact_price_history_filtered = df_fact_price_history.filter(col(\"stocksymbol\").isin(valid_stocksymbols))\n",
    "\n",
    "df_fact_price_history_filtered = df_fact_price_history_filtered.withColumn('dateid_padded', lpad(col('dateid').cast('string'), 8, '0'))\n",
    "df_fact_price_history_filtered = df_fact_price_history_filtered.withColumn('date', to_date(col('dateid_padded'), 'ddMMyyyy'))\n"
   ]
  },
  {
   "cell_type": "code",
   "execution_count": 10,
   "id": "c339c54a-42cd-43b3-9851-34dc429b99a3",
   "metadata": {},
   "outputs": [],
   "source": [
    "from pyspark.sql.window import Window\n",
    "import pyspark.sql.functions as F\n",
    "from pyspark.sql.types import DoubleType\n",
    "\n",
    "def calculate_ema(df, period, column='closeprice'):\n",
    "    \"\"\"\n",
    "    Calculate the Exponential Moving Average (EMA) for a given period.\n",
    "    \n",
    "    :param df: The DataFrame containing stock price data\n",
    "    :param period: The period for which EMA is calculated\n",
    "    :param column: The column name for which EMA is calculated\n",
    "    :return: DataFrame with EMA values\n",
    "    \"\"\"\n",
    "    alpha = 2 / (period + 1)\n",
    "    \n",
    "    windowSpec = Window.partitionBy(\"stocksymbol\").orderBy(\"date\")\n",
    "\n",
    "    # Calculate initial SMA (Simple Moving Average)\n",
    "    sma_window_spec = Window.partitionBy(\"stocksymbol\").orderBy(\"date\").rowsBetween(-period + 1, 0)\n",
    "    df = df.withColumn('SMA', F.avg(column).over(sma_window_spec))\n",
    "    \n",
    "    # Initialize EMA column\n",
    "    df = df.withColumn('EMA', F.lit(None).cast(DoubleType()))\n",
    "\n",
    "    # Calculate EMA using iterative approach\n",
    "    def calculate_ema_iter(closeprice, previous_ema, alpha):\n",
    "        if previous_ema is None:\n",
    "            return closeprice\n",
    "        return (closeprice * alpha) + (previous_ema * (1 - alpha))\n",
    "\n",
    "    # Define UDF for EMA calculation\n",
    "    ema_udf = F.udf(lambda closeprice, previous_ema: calculate_ema_iter(closeprice, previous_ema, alpha), DoubleType())\n",
    "\n",
    "    # Apply UDF to calculate EMA iteratively\n",
    "    df = df.withColumn('EMA', F.coalesce(\n",
    "        ema_udf(col(column), lag(col('EMA')).over(windowSpec)),\n",
    "        col('SMA')\n",
    "    ))\n",
    "    \n",
    "    return df.drop('SMA')\n",
    "\n"
   ]
  },
  {
   "cell_type": "code",
   "execution_count": 26,
   "id": "5d999f03-d2c8-4d28-9bb5-8bc563e26ee6",
   "metadata": {},
   "outputs": [],
   "source": [
    "# Apply the EMA calculation\n",
    "period = 200\n",
    "df_with_ema = calculate_ema(df_fact_price_history_filtered, period)\n",
    "\n",
    "# Select required columns\n",
    "ema_data = df_with_ema.select(\n",
    "    col(\"stocksymbol\"),\n",
    "    col(\"dateid\"),\n",
    "    col(\"EMA\").alias(\"indicatorvalue\"),\n",
    "    lit(8).alias(\"indicatorid\")  # Giả sử 5 là ID cho EMA\n",
    ")\n"
   ]
  },
  {
   "cell_type": "code",
   "execution_count": 27,
   "id": "0a3ab7b4-b023-4a6d-99f5-2841a8147644",
   "metadata": {},
   "outputs": [
    {
     "name": "stderr",
     "output_type": "stream",
     "text": [
      "[Stage 42:===================================================>  (380 + 8) / 396]\r"
     ]
    },
    {
     "name": "stdout",
     "output_type": "stream",
     "text": [
      "+-----------+--------+--------------+-----------+\n",
      "|stocksymbol|  dateid|indicatorvalue|indicatorid|\n",
      "+-----------+--------+--------------+-----------+\n",
      "|        AAT|24032021|          12.7|          8|\n",
      "|        AAT|25032021|         12.45|          8|\n",
      "|        AAT|26032021|     12.083333|          8|\n",
      "|        AAT|29032021|       11.8125|          8|\n",
      "|        AAT|30032021|          11.8|          8|\n",
      "|        AAT|31032021|        11.925|          8|\n",
      "|        AAT| 1042021|     12.135714|          8|\n",
      "|        AAT| 2042021|      12.24375|          8|\n",
      "|        AAT| 5042021|     12.283333|          8|\n",
      "|        AAT| 6042021|          12.4|          8|\n",
      "|        AAT| 7042021|          12.5|          8|\n",
      "|        AAT| 8042021|     12.558333|          8|\n",
      "|        AAT| 9042021|     12.676923|          8|\n",
      "|        AAT|12042021|     12.846429|          8|\n",
      "|        AAT|13042021|     13.033333|          8|\n",
      "|        AAT|14042021|     13.190625|          8|\n",
      "|        AAT|15042021|         13.35|          8|\n",
      "|        AAT|16042021|        13.525|          8|\n",
      "|        AAT|19042021|     13.665789|          8|\n",
      "|        AAT|20042021|       13.8225|          8|\n",
      "+-----------+--------+--------------+-----------+\n",
      "only showing top 20 rows\n",
      "\n"
     ]
    },
    {
     "name": "stderr",
     "output_type": "stream",
     "text": [
      "                                                                                \r"
     ]
    }
   ],
   "source": [
    "ema_data.show()"
   ]
  },
  {
   "cell_type": "code",
   "execution_count": 28,
   "id": "7f0d5110-cabf-4397-beae-8fb61512ead0",
   "metadata": {},
   "outputs": [
    {
     "name": "stderr",
     "output_type": "stream",
     "text": [
      "                                                                                \r"
     ]
    }
   ],
   "source": [
    "# Write result to `fact_stock_indicator`\n",
    "ema_data.write \\\n",
    "    .format(\"jdbc\") \\\n",
    "    .option(\"driver\", \"com.mysql.cj.jdbc.Driver\") \\\n",
    "    .option(\"url\", \"jdbc:mysql://10.168.6.106:3306/dtm_stock\") \\\n",
    "    .option(\"dbtable\", \"fact_stock_indicator\") \\\n",
    "    .option(\"user\", \"acc_etl\") \\\n",
    "    .option(\"password\", \"Vnpt123456\") \\\n",
    "    .mode(\"append\") \\\n",
    "    .save()\n"
   ]
  }
 ],
 "metadata": {
  "kernelspec": {
   "display_name": "Python 3 (ipykernel)",
   "language": "python",
   "name": "python3"
  },
  "language_info": {
   "codemirror_mode": {
    "name": "ipython",
    "version": 3
   },
   "file_extension": ".py",
   "mimetype": "text/x-python",
   "name": "python",
   "nbconvert_exporter": "python",
   "pygments_lexer": "ipython3",
   "version": "3.9.18"
  }
 },
 "nbformat": 4,
 "nbformat_minor": 5
}
