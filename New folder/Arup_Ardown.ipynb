{
 "cells": [
  {
   "cell_type": "code",
   "execution_count": 15,
   "id": "7017c7be-f5f1-4e3d-8ead-94bffbf08b2f",
   "metadata": {},
   "outputs": [],
   "source": [
    "from pyspark.sql import SparkSession\n",
    "from pyspark.sql.functions import col, to_date, lpad, lit, when\n",
    "\n",
    "# Khởi tạo SparkSession\n",
    "spark = SparkSession.builder \\\n",
    "    .appName(\"Aroon_Up/Aroon_Down\") \\\n",
    "    .config(\"spark.cores.max\", \"2\") \\\n",
    "    .config(\"spark.executor.memory\", \"4g\") \\\n",
    "    .getOrCreate()\n",
    "\n",
    "# Đọc dữ liệu từ bảng nguồn machungkhoan\n",
    "df_lichsugia = spark.read.format(\"iceberg\").load(\"stock_db.datn_lichsugia\")\n",
    "df_machungkhoan = spark.read.format(\"iceberg\").load(\"stock_db.datn_machungkhoan\")\n",
    "\n",
    "# Convert 'ngay' to DateType\n",
    "df_lichsugia = df_lichsugia.withColumn(\"ngay\", to_date(col(\"ngay\"), \"dd/MM/yyyy\"))\n",
    "\n",
    "# Convert 'ky_du_lieu' to TimestampType\n",
    "df_lichsugia = df_lichsugia.withColumn(\"ky_du_lieu\", to_timestamp(col(\"ky_du_lieu\"), \"dd/MM/yyyy HH:mm:ss\"))\n",
    "\n",
    "# Extract numeric values from 'thaydoi' and split into change and percentage change\n",
    "df_lichsugia = df_lichsugia.withColumn(\"thaydoi_value\", regexp_extract(col(\"thaydoi\"), r'([\\d\\.-]+)', 1).cast(\"float\"))\n",
    "df_lichsugia = df_lichsugia.withColumn(\"thaydoi_percent\", regexp_extract(col(\"thaydoi\"), r'\\(([\\d\\.-]+)%\\)', 1).cast(\"float\"))\n",
    "\n",
    "# Convert 'ngay' to 'dateid' in the format ddMMyyyy\n",
    "df_lichsugia = df_lichsugia.withColumn(\"dateid\", date_format(col(\"ngay\"), \"ddMMyyyy\").cast(\"int\"))\n",
    "\n",
    "dim_stock_df = df_machungkhoan.filter((col('categoryname').isNotNull()) & (col('categoryname') != \"\"))\n",
    "df_stock_drop_duplicate = dim_stock_df.dropDuplicates(['symbol'])\n",
    "\n",
    "# Ghi dữ liệu vào bảng dim_stock\n",
    "dim_stock_data = df_stock_drop_duplicate.select(\n",
    "    col(\"symbol\").alias(\"stocksymbol\"),\n",
    "    \"companyname\",\n",
    "    \"categoryid\"\n",
    ").distinct()\n",
    "\n",
    "# Convert dim_stock_df to a list of stocksymbols\n",
    "valid_stocksymbols = [row.stocksymbol for row in dim_stock_data.select(\"stocksymbol\").distinct().collect()]\n",
    "\n",
    "# Select and rename columns to match the schema of 'fact_price_history'\n",
    "df_fact_price_history = df_lichsugia.select(\n",
    "    col(\"symbol\").alias(\"stocksymbol\"),\n",
    "    col(\"dateid\"),\n",
    "    col(\"giamocua\").alias(\"openprice\").cast(\"decimal(18, 2)\"),\n",
    "    col(\"giadongcua\").alias(\"closeprice\").cast(\"decimal(18, 2)\"),\n",
    "    col(\"giacaonhat\").alias(\"highprice\").cast(\"decimal(18, 2)\"),\n",
    "    col(\"giathapnhat\").alias(\"lowprice\").cast(\"decimal(18, 2)\"),\n",
    "    col(\"khoiluongkhoplenh\").alias(\"volume\").cast(\"bigint\")\n",
    ")\n",
    "\n",
    "# Đảm bảo df_fact_price_history đã được lọc để loại bỏ các giá trị null\n",
    "df_fact_price_history_filtered = df_fact_price_history.filter(col(\"stocksymbol\").isin(valid_stocksymbols))\n",
    "\n",
    "df_fact_price_history_filtered = df_fact_price_history_filtered.withColumn('dateid_padded', lpad(col('dateid').cast('string'), 8, '0'))\n",
    "df_fact_price_history_filtered = df_fact_price_history_filtered.withColumn('date', to_date(col('dateid_padded'), 'ddMMyyyy'))\n",
    "\n",
    "# Tính toán giá trị A/D cho từng ngày, xử lý trường hợp mẫu số bằng 0\n",
    "df_with_ad_calculator = df_fact_price_history_filtered.withColumn(\n",
    "    \"A/D\",\n",
    "    when(\n",
    "        (col(\"highprice\") - col(\"lowprice\")) != 0,\n",
    "        (((col(\"closeprice\") - col(\"lowprice\")) - (col(\"highprice\") - col(\"closeprice\"))) * col(\"volume\")) / (col(\"highprice\") - col(\"lowprice\"))\n",
    "    ).otherwise(0)\n",
    ")\n",
    "\n",
    "# Định nghĩa indicatorid và chuẩn bị dữ liệu\n",
    "indicator_data_ad = df_with_ad_calculator.select(\n",
    "    col(\"stocksymbol\"),\n",
    "    col(\"dateid\"),\n",
    "    col(\"A/D\").alias(\"indicatorvalue\"),\n",
    "    lit(2).alias(\"indicatorid\")  # Giả sử 2 là ID cho A/D\n",
    ")\n"
   ]
  },
  {
   "cell_type": "code",
   "execution_count": 16,
   "id": "45a55b20-2252-4222-9b10-2b574ecf1ed8",
   "metadata": {},
   "outputs": [
    {
     "name": "stderr",
     "output_type": "stream",
     "text": [
      "                                                                                \r"
     ]
    }
   ],
   "source": [
    "# Ghi kết quả vào bảng `fact_stock_indicator`\n",
    "indicator_data_ad.write \\\n",
    "    .format(\"jdbc\") \\\n",
    "    .option(\"driver\", \"com.mysql.cj.jdbc.Driver\") \\\n",
    "    .option(\"url\", \"jdbc:mysql://10.168.6.106:3306/dtm_stock\") \\\n",
    "    .option(\"dbtable\", \"fact_stock_indicator\") \\\n",
    "    .option(\"user\", \"acc_etl\") \\\n",
    "    .option(\"password\", \"Vnpt123456\") \\\n",
    "    .mode(\"append\") \\\n",
    "    .save()"
   ]
  },
  {
   "cell_type": "code",
   "execution_count": null,
   "id": "036dd1dc-1abf-4935-a5c4-e2933b3e0fab",
   "metadata": {},
   "outputs": [],
   "source": []
  }
 ],
 "metadata": {
  "kernelspec": {
   "display_name": "Python 3 (ipykernel)",
   "language": "python",
   "name": "python3"
  },
  "language_info": {
   "codemirror_mode": {
    "name": "ipython",
    "version": 3
   },
   "file_extension": ".py",
   "mimetype": "text/x-python",
   "name": "python",
   "nbconvert_exporter": "python",
   "pygments_lexer": "ipython3",
   "version": "3.9.18"
  }
 },
 "nbformat": 4,
 "nbformat_minor": 5
}
