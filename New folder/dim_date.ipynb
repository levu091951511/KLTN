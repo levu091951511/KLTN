{
 "cells": [
  {
   "cell_type": "code",
   "execution_count": 8,
   "id": "8a808ad6-38c1-40d8-a28d-e3d117cda921",
   "metadata": {},
   "outputs": [
    {
     "name": "stdout",
     "output_type": "stream",
     "text": [
      "Collecting mysql-connector-python\n",
      "  Downloading mysql_connector_python-8.4.0-cp39-cp39-manylinux_2_17_x86_64.whl.metadata (1.9 kB)\n",
      "Downloading mysql_connector_python-8.4.0-cp39-cp39-manylinux_2_17_x86_64.whl (19.4 MB)\n",
      "\u001b[2K   \u001b[90m━━━━━━━━━━━━━━━━━━━━━━━━━━━━━━━━━━━━━━━━\u001b[0m \u001b[32m19.4/19.4 MB\u001b[0m \u001b[31m44.4 MB/s\u001b[0m eta \u001b[36m0:00:00\u001b[0m00:01\u001b[0m00:01\u001b[0m\n",
      "\u001b[?25hInstalling collected packages: mysql-connector-python\n",
      "Successfully installed mysql-connector-python-8.4.0\n",
      "\u001b[33mWARNING: Running pip as the 'root' user can result in broken permissions and conflicting behaviour with the system package manager. It is recommended to use a virtual environment instead: https://pip.pypa.io/warnings/venv\u001b[0m\u001b[33m\n",
      "\u001b[0m\n",
      "\u001b[1m[\u001b[0m\u001b[34;49mnotice\u001b[0m\u001b[1;39;49m]\u001b[0m\u001b[39;49m A new release of pip is available: \u001b[0m\u001b[31;49m23.3.2\u001b[0m\u001b[39;49m -> \u001b[0m\u001b[32;49m24.0\u001b[0m\n",
      "\u001b[1m[\u001b[0m\u001b[34;49mnotice\u001b[0m\u001b[1;39;49m]\u001b[0m\u001b[39;49m To update, run: \u001b[0m\u001b[32;49mpip install --upgrade pip\u001b[0m\n"
     ]
    }
   ],
   "source": [
    "!pip install mysql-connector-python"
   ]
  },
  {
   "cell_type": "code",
   "execution_count": 11,
   "id": "7b721e9b-3e8f-4998-a5cc-841241503d1c",
   "metadata": {},
   "outputs": [
    {
     "name": "stdout",
     "output_type": "stream",
     "text": [
      "Dữ liệu đã được nhập vào bảng dim_date thành công!\n"
     ]
    }
   ],
   "source": [
    "import mysql.connector\n",
    "from datetime import datetime, timedelta\n",
    "\n",
    "# Kết nối tới cơ sở dữ liệu MySQL\n",
    "mydb = mysql.connector.connect(\n",
    "    host=\"10.168.6.106\",\n",
    "    user=\"acc_etl\",\n",
    "    password=\"Vnpt123456\",\n",
    "    database=\"dtm_stock\"\n",
    ")\n",
    "\n",
    "# Tạo một con trỏ để thực hiện các truy vấn\n",
    "mycursor = mydb.cursor()\n",
    "\n",
    "# Hàm để chuyển đổi ngày thành định dạng dateid\n",
    "def convert_to_dateid(date):\n",
    "    return int(date.strftime('%d%m%Y'))\n",
    "\n",
    "# Tạo danh sách ngày từ năm 2000 đến 2025\n",
    "start_date = datetime(2000, 1, 1)\n",
    "end_date = datetime(2025, 12, 31)\n",
    "date_list = [start_date + timedelta(days=x) for x in range((end_date - start_date).days + 1)]\n",
    "\n",
    "# Lặp qua mỗi ngày và thêm dữ liệu vào bảng dim_date\n",
    "for date in date_list:\n",
    "    dateid = convert_to_dateid(date)\n",
    "    year = date.year\n",
    "    quarter = (date.month - 1) // 3 + 1\n",
    "    month = date.month\n",
    "    day = date.day\n",
    "    weekday = date.weekday()\n",
    "\n",
    "    # Thực hiện truy vấn INSERT\n",
    "    sql = \"INSERT INTO dim_date (dateid, DATE, YEAR, QUARTER, MONTH, DAY, WEEKDAY) VALUES (%s, %s, %s, %s, %s, %s, %s)\"\n",
    "    val = (dateid, date, year, quarter, month, day, weekday)\n",
    "    mycursor.execute(sql, val)\n",
    "\n",
    "# Xác nhận thay đổi trong cơ sở dữ liệu\n",
    "mydb.commit()\n",
    "\n",
    "# In ra thông báo khi quá trình hoàn tất\n",
    "print(\"Dữ liệu đã được nhập vào bảng dim_date thành công!\")\n"
   ]
  }
 ],
 "metadata": {
  "kernelspec": {
   "display_name": "Python 3 (ipykernel)",
   "language": "python",
   "name": "python3"
  },
  "language_info": {
   "codemirror_mode": {
    "name": "ipython",
    "version": 3
   },
   "file_extension": ".py",
   "mimetype": "text/x-python",
   "name": "python",
   "nbconvert_exporter": "python",
   "pygments_lexer": "ipython3",
   "version": "3.9.18"
  }
 },
 "nbformat": 4,
 "nbformat_minor": 5
}
