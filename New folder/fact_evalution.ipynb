{
 "cells": [
  {
   "cell_type": "code",
   "execution_count": 1,
   "id": "e4d3bae4-248b-4084-94c7-4ae9c2484247",
   "metadata": {},
   "outputs": [],
   "source": [
    "from pyspark.sql import SparkSession\n",
    "from pyspark.sql.functions import to_timestamp, to_date, split, when, col, sum, mean, round, count, abs, regexp_extract, date_format\n",
    "import numpy as np\n",
    "from datetime import datetime, timedelta\n",
    "from pyspark.sql.window import Window\n",
    "from pyspark.sql import functions as F"
   ]
  },
  {
   "cell_type": "code",
   "execution_count": 2,
   "id": "1dd150dd-0471-433c-bfb1-a34634440d0b",
   "metadata": {},
   "outputs": [
    {
     "name": "stderr",
     "output_type": "stream",
     "text": [
      "24/05/24 03:01:53 WARN SparkSession: Using an existing Spark session; only runtime SQL configurations will take effect.\n"
     ]
    }
   ],
   "source": [
    "spark = SparkSession.builder \\\n",
    "    .appName(\"machungkhoan\") \\\n",
    "    .config(\"spark.cores.max\", \"2\") \\\n",
    "    .config(\"spark.executor.memory\", \"4g\") \\\n",
    "    .getOrCreate()"
   ]
  },
  {
   "cell_type": "code",
   "execution_count": 3,
   "id": "0fb3b5bd-dc67-4f48-b1bb-12b09df12bf6",
   "metadata": {},
   "outputs": [],
   "source": [
    "# Đọc dữ liệu từ bảng nguồn machungkhoan\n",
    "df_evalution = spark.read.format(\"iceberg\").load(\"stock_db.datn_danhgiachungkhoan\")\n",
    "\n",
    "# Đọc dữ liệu từ bảng nguồn machungkhoan\n",
    "df_machungkhoan = spark.read.format(\"iceberg\").load(\"stock_db.datn_machungkhoan\")"
   ]
  },
  {
   "cell_type": "code",
   "execution_count": 4,
   "id": "adccc031-6dc3-49b8-963e-3a268fb2b734",
   "metadata": {},
   "outputs": [
    {
     "name": "stderr",
     "output_type": "stream",
     "text": [
      "                                                                                \r"
     ]
    },
    {
     "name": "stdout",
     "output_type": "stream",
     "text": [
      "+---+---+----------+----------+-------+-------+----------+----------+------+-------------------+\n",
      "| pe| pb|industrype|industrypb|indexpe|indexpb| from_date|   to_date|symbol|         ky_du_lieu|\n",
      "+---+---+----------+----------+-------+-------+----------+----------+------+-------------------+\n",
      "|0.0|0.0|      14.4|       2.0|   16.2|    2.1|2019-05-15|2019-05-15|   VPW|15/05/2024 01:05:43|\n",
      "+---+---+----------+----------+-------+-------+----------+----------+------+-------------------+\n",
      "only showing top 1 row\n",
      "\n"
     ]
    }
   ],
   "source": [
    "df_evalution.show(1)"
   ]
  },
  {
   "cell_type": "code",
   "execution_count": 29,
   "id": "cff9aa9d-f9dc-45a7-a268-97db85fe71dc",
   "metadata": {},
   "outputs": [],
   "source": [
    "dim_stock_df  = df_machungkhoan.filter((col('categoryname').isNotNull()) & (col('categoryname') != \"\"))\n",
    "df_stock_drop_duplicate = dim_stock_df.dropDuplicates(['symbol'])\n",
    "# Tiếp theo, ghi dữ liệu vào bảng dim_stock\n",
    "dim_stock_data = df_stock_drop_duplicate.select(\n",
    "    col(\"symbol\").alias(\"stocksymbol\"),\n",
    "    \"companyname\",\n",
    "    \"categoryid\"\n",
    ").distinct()\n",
    "\n",
    "# Convert dim_stock_df to a list of stocksymbols\n",
    "valid_stocksymbols = [row.stocksymbol for row in dim_stock_data.select(\"stocksymbol\").distinct().collect()]"
   ]
  },
  {
   "cell_type": "code",
   "execution_count": 35,
   "id": "e1e7e883-8874-4700-8b9b-3742fa6834f1",
   "metadata": {},
   "outputs": [],
   "source": [
    "df_evalution = df_evalution.withColumn(\"from_date\", to_date(col(\"from_date\"), \"yyyy-MM-dd\"))\n",
    "df_evalution = df_evalution.withColumn(\"to_date\", to_date(col(\"to_date\"), \"yyyy-MM-dd\"))\n"
   ]
  },
  {
   "cell_type": "code",
   "execution_count": 36,
   "id": "41165cb8-0b85-49d3-b030-b7e16d3c12d0",
   "metadata": {},
   "outputs": [],
   "source": [
    "\n",
    "df_evalution = df_evalution.withColumn(\"fromdateid\", date_format(col(\"from_date\"), \"ddMMyyyy\").cast(\"int\"))\n",
    "\n",
    "df_evalution = df_evalution.withColumn(\"todateid\", date_format(col(\"to_date\"), \"ddMMyyyy\").cast(\"int\"))"
   ]
  },
  {
   "cell_type": "code",
   "execution_count": 37,
   "id": "c59b5c25-2bf7-4fa1-ab95-6dd3d7d017a4",
   "metadata": {},
   "outputs": [
    {
     "name": "stdout",
     "output_type": "stream",
     "text": [
      "+---+---+----------+----------+-------+-------+----------+----------+------+-------------------+----------+--------+\n",
      "| pe| pb|industrype|industrypb|indexpe|indexpb| from_date|   to_date|symbol|         ky_du_lieu|fromdateid|todateid|\n",
      "+---+---+----------+----------+-------+-------+----------+----------+------+-------------------+----------+--------+\n",
      "|0.0|0.0|      14.8|       2.2|   16.2|    2.1|2019-05-15|2019-05-15|   VTK|15/05/2024 01:08:07|  15052019|15052019|\n",
      "+---+---+----------+----------+-------+-------+----------+----------+------+-------------------+----------+--------+\n",
      "only showing top 1 row\n",
      "\n"
     ]
    }
   ],
   "source": [
    "df_evalution.show(1)"
   ]
  },
  {
   "cell_type": "code",
   "execution_count": 38,
   "id": "0b75f080-cdc2-4aa4-8be8-d3c4c70ee729",
   "metadata": {},
   "outputs": [],
   "source": [
    "# Select and rename columns to match the schema of 'fact_price_history'\n",
    "df_evalution_selected = df_evalution.select(\n",
    "    col(\"symbol\").alias(\"stocksymbol\"),\n",
    "    col(\"fromdateid\"),\n",
    "    col(\"todateid\"),\n",
    "    col(\"pe\").cast(\"decimal(18, 2)\"),\n",
    "    col(\"pb\").cast(\"decimal(18, 2)\"),\n",
    "    col(\"industrype\").cast(\"decimal(18, 2)\"),\n",
    "    col(\"industrypb\").cast(\"decimal(18, 2)\"),\n",
    "    col(\"indexpe\").cast(\"decimal(18, 2)\"),\n",
    "    col(\"indexpb\").cast(\"decimal(18, 2)\")\n",
    ")"
   ]
  },
  {
   "cell_type": "code",
   "execution_count": 39,
   "id": "f6618761-47cd-4233-a1c3-27b2abc840f5",
   "metadata": {},
   "outputs": [
    {
     "name": "stdout",
     "output_type": "stream",
     "text": [
      "+-----------+----------+--------+------+----+----------+----------+-------+-------+\n",
      "|stocksymbol|fromdateid|todateid|    pe|  pb|industrype|industrypb|indexpe|indexpb|\n",
      "+-----------+----------+--------+------+----+----------+----------+-------+-------+\n",
      "|        VTC|  15052019|15052019|-10.60|0.40|     10.70|      1.40|  16.20|   2.10|\n",
      "+-----------+----------+--------+------+----+----------+----------+-------+-------+\n",
      "only showing top 1 row\n",
      "\n"
     ]
    }
   ],
   "source": [
    "df_evalution_selected.show(1)"
   ]
  },
  {
   "cell_type": "code",
   "execution_count": 40,
   "id": "460eaae6-15b8-48f8-a6b3-e060447ec8a5",
   "metadata": {},
   "outputs": [],
   "source": [
    "df_evalution_filtered = df_evalution_selected.filter(col(\"stocksymbol\").isin(valid_stocksymbols))"
   ]
  },
  {
   "cell_type": "code",
   "execution_count": null,
   "id": "d7f468b8-1c46-4b7b-9185-d752b2cf0fab",
   "metadata": {},
   "outputs": [
    {
     "name": "stderr",
     "output_type": "stream",
     "text": [
      "[Stage 20:=================================================>    (361 + 8) / 392]\r"
     ]
    }
   ],
   "source": [
    "# Ghi kết quả vào bảng `fact_stock_indicator`\n",
    "df_evalution_filtered.write \\\n",
    "    .format(\"jdbc\") \\\n",
    "    .option(\"driver\", \"com.mysql.cj.jdbc.Driver\") \\\n",
    "    .option(\"url\", \"jdbc:mysql://10.168.6.106:3306/dtm_stock\") \\\n",
    "    .option(\"dbtable\", \"fact_evaluation\") \\\n",
    "    .option(\"user\", \"acc_etl\") \\\n",
    "    .option(\"password\", \"Vnpt123456\") \\\n",
    "    .mode(\"append\") \\\n",
    "    .save()"
   ]
  }
 ],
 "metadata": {
  "kernelspec": {
   "display_name": "Python 3 (ipykernel)",
   "language": "python",
   "name": "python3"
  },
  "language_info": {
   "codemirror_mode": {
    "name": "ipython",
    "version": 3
   },
   "file_extension": ".py",
   "mimetype": "text/x-python",
   "name": "python",
   "nbconvert_exporter": "python",
   "pygments_lexer": "ipython3",
   "version": "3.9.18"
  }
 },
 "nbformat": 4,
 "nbformat_minor": 5
}
