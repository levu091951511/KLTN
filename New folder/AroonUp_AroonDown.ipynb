{
 "cells": [
  {
   "cell_type": "code",
   "execution_count": 4,
   "id": "2861532f-eb32-4304-aacd-d85a321d32c5",
   "metadata": {},
   "outputs": [
    {
     "name": "stderr",
     "output_type": "stream",
     "text": [
      "                                                                                \r"
     ]
    }
   ],
   "source": [
    "from pyspark.sql import SparkSession\n",
    "from pyspark.sql.functions import col, to_date, lpad, lit, max, min, expr, when, count, regexp_extract, date_format\n",
    "from pyspark.sql.window import Window\n",
    "\n",
    "# Khởi tạo SparkSession\n",
    "spark = SparkSession.builder \\\n",
    "    .appName(\"Aroon_Up/Aroon_Down\") \\\n",
    "    .config(\"spark.cores.max\", \"2\") \\\n",
    "    .config(\"spark.executor.memory\", \"4g\") \\\n",
    "    .getOrCreate()\n",
    "\n",
    "# Đọc dữ liệu từ bảng nguồn machungkhoan\n",
    "df_lichsugia = spark.read.format(\"iceberg\").load(\"stock_db.datn_lichsugia\")\n",
    "df_machungkhoan = spark.read.format(\"iceberg\").load(\"stock_db.datn_machungkhoan\")\n",
    "\n",
    "# Convert 'ngay' to DateType\n",
    "df_lichsugia = df_lichsugia.withColumn(\"ngay\", to_date(col(\"ngay\"), \"dd/MM/yyyy\"))\n",
    "\n",
    "# Extract numeric values from 'thaydoi' and split into change and percentage change\n",
    "df_lichsugia = df_lichsugia.withColumn(\"thaydoi_value\", regexp_extract(col(\"thaydoi\"), r'([\\d\\.-]+)', 1).cast(\"float\"))\n",
    "df_lichsugia = df_lichsugia.withColumn(\"thaydoi_percent\", regexp_extract(col(\"thaydoi\"), r'\\(([\\d\\.-]+)%\\)', 1).cast(\"float\"))\n",
    "\n",
    "# Convert 'ngay' to 'dateid' in the format ddMMyyyy\n",
    "df_lichsugia = df_lichsugia.withColumn(\"dateid\", date_format(col(\"ngay\"), \"ddMMyyyy\").cast(\"int\"))\n",
    "\n",
    "dim_stock_df = df_machungkhoan.filter((col('categoryname').isNotNull()) & (col('categoryname') != \"\"))\n",
    "df_stock_drop_duplicate = dim_stock_df.dropDuplicates(['symbol'])\n",
    "\n",
    "# Ghi dữ liệu vào bảng dim_stock\n",
    "dim_stock_data = df_stock_drop_duplicate.select(\n",
    "    col(\"symbol\").alias(\"stocksymbol\"),\n",
    "    \"companyname\",\n",
    "    \"categoryid\"\n",
    ").distinct()\n",
    "\n",
    "# Convert dim_stock_df to a list of stocksymbols\n",
    "valid_stocksymbols = [row.stocksymbol for row in dim_stock_data.select(\"stocksymbol\").distinct().collect()]\n",
    "\n",
    "# Select and rename columns to match the schema of 'fact_price_history'\n",
    "df_fact_price_history = df_lichsugia.select(\n",
    "    col(\"symbol\").alias(\"stocksymbol\"),\n",
    "    col(\"dateid\"),\n",
    "    col(\"giamocua\").alias(\"openprice\").cast(\"decimal(18, 2)\"),\n",
    "    col(\"giadongcua\").alias(\"closeprice\").cast(\"decimal(18, 2)\"),\n",
    "    col(\"giacaonhat\").alias(\"highprice\").cast(\"decimal(18, 2)\"),\n",
    "    col(\"giathapnhat\").alias(\"lowprice\").cast(\"decimal(18, 2)\"),\n",
    "    col(\"khoiluongkhoplenh\").alias(\"volume\").cast(\"bigint\")\n",
    ")\n",
    "\n",
    "# Đảm bảo df_fact_price_history đã được lọc để loại bỏ các giá trị null\n",
    "df_fact_price_history_filtered = df_fact_price_history.filter(col(\"stocksymbol\").isin(valid_stocksymbols))\n",
    "\n",
    "df_fact_price_history_filtered = df_fact_price_history_filtered.withColumn('dateid_padded', lpad(col('dateid').cast('string'), 8, '0'))\n",
    "df_fact_price_history_filtered = df_fact_price_history_filtered.withColumn('date', to_date(col('dateid_padded'), 'ddMMyyyy'))\n"
   ]
  },
  {
   "cell_type": "code",
   "execution_count": 5,
   "id": "8aef95c2-7c35-4e18-9145-e9da26036f67",
   "metadata": {},
   "outputs": [],
   "source": [
    "# Define window specifications\n",
    "windowSpec = Window.partitionBy(\"stocksymbol\").orderBy(col(\"date\").cast(\"long\")).rowsBetween(-13, 0)\n",
    "\n",
    "# Calculate rolling max and min\n",
    "df_with_aroon = df_fact_price_history_filtered.withColumn(\"rolling_max\", max(\"highprice\").over(windowSpec)) \\\n",
    "    .withColumn(\"rolling_min\", min(\"lowprice\").over(windowSpec)) \\\n",
    "    .withColumn(\"days_since_max\", count(when(col(\"highprice\") == col(\"rolling_max\"), col(\"date\"))).over(windowSpec)) \\\n",
    "    .withColumn(\"days_since_min\", count(when(col(\"lowprice\") == col(\"rolling_min\"), col(\"date\"))).over(windowSpec)) \\\n",
    "    .withColumn(\"Aroon_Up\", expr(\"100 * (14 - days_since_max) / 14\")) \\\n",
    "    .withColumn(\"Aroon_Down\", expr(\"100 * (14 - days_since_min) / 14\"))\n",
    "\n",
    "# Select required columns\n",
    "aroon_data = df_with_aroon.select(\n",
    "    col(\"stocksymbol\"),\n",
    "    col(\"dateid\"),\n",
    "    col(\"Aroon_Up\").alias(\"indicatorvalue\"),\n",
    "    lit(3).alias(\"indicatorid\")  # Giả sử 3 là ID cho Aroon Up\n",
    ").union(\n",
    "    df_with_aroon.select(\n",
    "        col(\"stocksymbol\"),\n",
    "        col(\"dateid\"),\n",
    "        col(\"Aroon_Down\").alias(\"indicatorvalue\"),\n",
    "        lit(4).alias(\"indicatorid\")  # Giả sử 4 là ID cho Aroon Down\n",
    "    )\n",
    ")\n",
    "\n"
   ]
  },
  {
   "cell_type": "code",
   "execution_count": 6,
   "id": "9c8c935a-7694-4076-94e1-f4087e351cb9",
   "metadata": {},
   "outputs": [
    {
     "name": "stderr",
     "output_type": "stream",
     "text": [
      "                                                                                \r"
     ]
    }
   ],
   "source": [
    "# Write result to `fact_stock_indicator`\n",
    "aroon_data.write \\\n",
    "    .format(\"jdbc\") \\\n",
    "    .option(\"driver\", \"com.mysql.cj.jdbc.Driver\") \\\n",
    "    .option(\"url\", \"jdbc:mysql://10.168.6.106:3306/dtm_stock\") \\\n",
    "    .option(\"dbtable\", \"fact_stock_indicator\") \\\n",
    "    .option(\"user\", \"acc_etl\") \\\n",
    "    .option(\"password\", \"Vnpt123456\") \\\n",
    "    .mode(\"append\") \\\n",
    "    .save()\n"
   ]
  }
 ],
 "metadata": {
  "kernelspec": {
   "display_name": "Python 3 (ipykernel)",
   "language": "python",
   "name": "python3"
  },
  "language_info": {
   "codemirror_mode": {
    "name": "ipython",
    "version": 3
   },
   "file_extension": ".py",
   "mimetype": "text/x-python",
   "name": "python",
   "nbconvert_exporter": "python",
   "pygments_lexer": "ipython3",
   "version": "3.9.18"
  }
 },
 "nbformat": 4,
 "nbformat_minor": 5
}
