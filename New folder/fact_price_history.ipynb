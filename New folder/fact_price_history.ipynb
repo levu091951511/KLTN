{
 "cells": [
  {
   "cell_type": "code",
   "execution_count": 1,
   "id": "e6717725-2115-43e9-84f3-76af348d84f9",
   "metadata": {},
   "outputs": [],
   "source": [
    "from pyspark.sql import SparkSession\n",
    "from pyspark.sql.functions import to_timestamp, to_date, split, when, col, sum, mean, round, count, abs, regexp_extract, date_format\n",
    "import numpy as np\n",
    "from datetime import datetime, timedelta\n",
    "from pyspark.sql.window import Window\n",
    "from pyspark.sql import functions as F"
   ]
  },
  {
   "cell_type": "code",
   "execution_count": 2,
   "id": "aea4603e-2fb7-4d1e-b1e4-8e593991986a",
   "metadata": {},
   "outputs": [
    {
     "name": "stderr",
     "output_type": "stream",
     "text": [
      "24/05/26 16:20:44 WARN SparkSession: Using an existing Spark session; only runtime SQL configurations will take effect.\n"
     ]
    }
   ],
   "source": [
    "spark = SparkSession.builder \\\n",
    "    .appName(\"lichsugia\") \\\n",
    "    .config(\"spark.cores.max\", \"2\") \\\n",
    "    .config(\"spark.executor.memory\", \"4g\") \\\n",
    "    .getOrCreate()"
   ]
  },
  {
   "cell_type": "code",
   "execution_count": 8,
   "id": "a1f55b27-a80d-44d6-824e-334ee0d27c21",
   "metadata": {},
   "outputs": [],
   "source": [
    "# Đọc dữ liệu từ bảng nguồn machungkhoan\n",
    "df_lichsugia = spark.read.format(\"iceberg\").load(\"stock_db.datn_lichsugia\")"
   ]
  },
  {
   "cell_type": "code",
   "execution_count": 9,
   "id": "3ecd61b4-c5ba-4254-9b8b-ff9519d4b339",
   "metadata": {},
   "outputs": [],
   "source": [
    "# Convert 'ngay' to DateType\n",
    "df_lichsugia = df_lichsugia.withColumn(\"ngay\", to_date(col(\"ngay\"), \"dd/MM/yyyy\"))"
   ]
  },
  {
   "cell_type": "code",
   "execution_count": 24,
   "id": "4befcaf1-db9a-48f7-ba42-50cb76642ae2",
   "metadata": {},
   "outputs": [],
   "source": [
    "# Select and rename columns to match the schema of 'fact_price_history'\n",
    "df_fact_price_history = df_lichsugia.select(\n",
    "    col(\"symbol\").alias(\"stocksymbol\"),\n",
    "    col(\"ngay\").alias(\"trace_date\"),\n",
    "    col(\"giamocua\").alias(\"open_price\").cast(\"decimal(18, 2)\"),\n",
    "    col(\"giadongcua\").alias(\"close_price\").cast(\"decimal(18, 2)\"),\n",
    "    col(\"giacaonhat\").alias(\"high_price\").cast(\"decimal(18, 2)\"),\n",
    "    col(\"giathapnhat\").alias(\"low_price\").cast(\"decimal(18, 2)\"),\n",
    "    col(\"khoiluongkhoplenh\").alias(\"volume\").cast(\"bigint\")\n",
    ")"
   ]
  },
  {
   "cell_type": "code",
   "execution_count": 37,
   "id": "0bd21499-16aa-4584-a0e2-eed7a179bba2",
   "metadata": {},
   "outputs": [],
   "source": [
    "# Đọc dữ liệu từ bảng nguồn machungkhoan\n",
    "df_machungkhoan = spark.read.format(\"iceberg\").load(\"stock_db.datn_machungkhoan\")"
   ]
  },
  {
   "cell_type": "code",
   "execution_count": 38,
   "id": "3f838d1d-4730-450e-a25a-518254af6686",
   "metadata": {},
   "outputs": [],
   "source": [
    "dim_stock_df  = df_machungkhoan.filter((col('categoryname').isNotNull()) & (col('categoryname') != \"\"))\n",
    "df_stock_drop_duplicate = dim_stock_df.dropDuplicates(['symbol'])"
   ]
  },
  {
   "cell_type": "code",
   "execution_count": 39,
   "id": "79b9cb88-c3a5-4063-a55b-472e4369119d",
   "metadata": {},
   "outputs": [],
   "source": [
    "dim_stock_data = df_stock_drop_duplicate.select(\n",
    "    col(\"symbol\").alias(\"stocksymbol\"),\n",
    "    \"companyname\",\n",
    "    \"categoryname\"\n",
    ").distinct()"
   ]
  },
  {
   "cell_type": "code",
   "execution_count": 40,
   "id": "28e1f791-a38b-4640-adc0-bf9be46193f1",
   "metadata": {},
   "outputs": [
    {
     "name": "stderr",
     "output_type": "stream",
     "text": [
      "                                                                                \r"
     ]
    }
   ],
   "source": [
    "# Convert dim_stock_df to a list of stocksymbols\n",
    "valid_stocksymbols = [row.stocksymbol for row in dim_stock_data.select(\"stocksymbol\").distinct().collect()]\n"
   ]
  },
  {
   "cell_type": "code",
   "execution_count": 41,
   "id": "b611afa0-6079-441e-9080-263b703513e7",
   "metadata": {},
   "outputs": [],
   "source": [
    "# Filter df_fact_price_history to only include valid stocksymbols\n",
    "df_fact_price_history_filtered = df_fact_price_history.filter(col(\"stocksymbol\").isin(valid_stocksymbols))"
   ]
  },
  {
   "cell_type": "code",
   "execution_count": 42,
   "id": "f188c2f3-7747-4b77-8a17-c6b5c4a0c565",
   "metadata": {},
   "outputs": [
    {
     "name": "stderr",
     "output_type": "stream",
     "text": [
      "                                                                                \r"
     ]
    }
   ],
   "source": [
    "# Write the transformed and filtered data to the 'fact_price_history' table\n",
    "df_fact_price_history_filtered.write \\\n",
    "    .format(\"jdbc\") \\\n",
    "    .option(\"driver\", \"com.mysql.cj.jdbc.Driver\") \\\n",
    "    .option(\"url\", \"jdbc:mysql://10.168.6.106:3306/dtm_stock_v2\") \\\n",
    "    .option(\"dbtable\", \"fact_price_history\") \\\n",
    "    .option(\"user\", \"acc_etl\") \\\n",
    "    .option(\"password\", \"Vnpt123456\") \\\n",
    "    .mode(\"append\") \\\n",
    "    .save()"
   ]
  }
 ],
 "metadata": {
  "kernelspec": {
   "display_name": "Python 3 (ipykernel)",
   "language": "python",
   "name": "python3"
  },
  "language_info": {
   "codemirror_mode": {
    "name": "ipython",
    "version": 3
   },
   "file_extension": ".py",
   "mimetype": "text/x-python",
   "name": "python",
   "nbconvert_exporter": "python",
   "pygments_lexer": "ipython3",
   "version": "3.9.18"
  }
 },
 "nbformat": 4,
 "nbformat_minor": 5
}
