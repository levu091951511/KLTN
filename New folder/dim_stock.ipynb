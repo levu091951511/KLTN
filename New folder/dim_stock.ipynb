{
 "cells": [
  {
   "cell_type": "code",
   "execution_count": 16,
   "id": "939ba197-2a39-4692-b0a0-e6ff67d1186d",
   "metadata": {},
   "outputs": [],
   "source": [
    "from pyspark.sql import SparkSession\n",
    "from pyspark.sql.functions import to_timestamp, to_date, split, when, col, sum, mean, round, count, abs\n",
    "import numpy as np\n",
    "from datetime import datetime, timedelta\n",
    "from pyspark.sql.window import Window\n",
    "from pyspark.sql import functions as F"
   ]
  },
  {
   "cell_type": "code",
   "execution_count": 17,
   "id": "75d31d8c-1cd0-4553-ad9b-82b7d9f82250",
   "metadata": {},
   "outputs": [],
   "source": [
    "spark = SparkSession.builder \\\n",
    "    .appName(\"machungkhoan\") \\\n",
    "    .config(\"spark.cores.max\", \"2\") \\\n",
    "    .config(\"spark.executor.memory\", \"4g\") \\\n",
    "    .getOrCreate()\n",
    "\n",
    "# Đường dẫn tới bảng nguồn machungkhoan\n",
    "source_table_path = \"stock_db.datn_machungkhoan\"\n",
    "\n",
    "# Đọc dữ liệu từ bảng nguồn machungkhoan\n",
    "df_machungkhoan = spark.read.format(\"iceberg\").load(source_table_path)"
   ]
  },
  {
   "cell_type": "code",
   "execution_count": 23,
   "id": "22bd8ca7-7116-4231-931b-ebad5a7b3860",
   "metadata": {},
   "outputs": [],
   "source": [
    "df_stock = df_machungkhoan.filter((col('companyname').isNotNull()) & (col('companyname') != \"\") & (col('categoryid') != 0))"
   ]
  },
  {
   "cell_type": "code",
   "execution_count": 25,
   "id": "fd72d95d-ec71-4470-a604-da34aaa0ac7d",
   "metadata": {},
   "outputs": [],
   "source": [
    "# Lựa chọn các cột cần thiết từ DataFrame\n",
    "selected_columns = df_stock.select(\n",
    "    \"symbol\", \"companyname\", \"categoryname\"\n",
    ")"
   ]
  },
  {
   "cell_type": "code",
   "execution_count": 26,
   "id": "a69e838b-b8d4-4555-999f-941296ccdd18",
   "metadata": {},
   "outputs": [],
   "source": [
    "df_stock_drop_duplicate = selected_columns.dropDuplicates(['symbol'])"
   ]
  },
  {
   "cell_type": "code",
   "execution_count": 29,
   "id": "f29b5812-d67b-45eb-b26b-a7eb6cafe6c7",
   "metadata": {},
   "outputs": [],
   "source": [
    "# Tiếp theo, ghi dữ liệu vào bảng dim_stock\n",
    "dim_stock_data = df_stock_drop_duplicate.select(\n",
    "    col(\"symbol\").alias(\"stocksymbol\"),\n",
    "    \"companyname\",\n",
    "    \"categoryname\"\n",
    ").distinct()"
   ]
  },
  {
   "cell_type": "code",
   "execution_count": 30,
   "id": "96a37fab-3de6-4c59-8b5b-8e0a841c81e6",
   "metadata": {},
   "outputs": [
    {
     "name": "stdout",
     "output_type": "stream",
     "text": [
      "+-----------+--------------------+--------------------+\n",
      "|stocksymbol|         companyname|        categoryname|\n",
      "+-----------+--------------------+--------------------+\n",
      "|        24H|CTCP Quảng cáo tr...|           Công nghệ|\n",
      "|        A32|  Công ty cổ phần 32|      Hàng tiêu dùng|\n",
      "|        AAA|Công ty Cổ phần N...|     Nguyên vật liệu|\n",
      "|        AAM|Công ty Cổ phần T...|         Nông nghiệp|\n",
      "|        AAS|Công ty cổ phần C...|           Tài chính|\n",
      "|        AAT|Công ty Cổ phần T...|      Hàng tiêu dùng|\n",
      "|        AAV|Công ty Cổ phần A...|Bất động sản và X...|\n",
      "|        ABB|Ngân hàng Thương ...|           Tài chính|\n",
      "|        ABC|Công ty cổ phần T...|          Viễn thông|\n",
      "|        ABF|Công ty cổ phần Q...|           Tài chính|\n",
      "|        ABI|Công ty Cổ phần B...|           Tài chính|\n",
      "|        ABR|Công ty Cổ phần Đ...|      Hàng tiêu dùng|\n",
      "|        ABS|Công ty cổ phần D...|         Nông nghiệp|\n",
      "|        ABT|Công ty Cổ phần X...|         Nông nghiệp|\n",
      "|        ACB|Ngân hàng Thương ...|           Tài chính|\n",
      "|        ACC|Công ty Cổ phần Đ...|Bất động sản và X...|\n",
      "|        ACE|Công ty Cổ phần B...|         Công nghiệp|\n",
      "|        ACG|Công ty Cổ phần G...|      Hàng tiêu dùng|\n",
      "|        ACL|Công ty cổ phần X...|         Nông nghiệp|\n",
      "|        ACM|Công ty cổ phần T...|     Nguyên vật liệu|\n",
      "+-----------+--------------------+--------------------+\n",
      "only showing top 20 rows\n",
      "\n"
     ]
    }
   ],
   "source": [
    "dim_stock_data.show()"
   ]
  },
  {
   "cell_type": "code",
   "execution_count": 31,
   "id": "76b12c0d-695f-4bf2-a3a4-cc4154aaa6b8",
   "metadata": {},
   "outputs": [
    {
     "name": "stderr",
     "output_type": "stream",
     "text": [
      "                                                                                \r"
     ]
    }
   ],
   "source": [
    "\n",
    "# Ghi dữ liệu vào bảng dim_stock\n",
    "dim_stock_data.write \\\n",
    "    .format(\"jdbc\") \\\n",
    "    .option(\"driver\", \"com.mysql.cj.jdbc.Driver\") \\\n",
    "    .option(\"url\", \"jdbc:mysql://10.168.6.106:3306/dtm_stock_v2\") \\\n",
    "    .option(\"dbtable\", \"dim_stock\") \\\n",
    "    .option(\"user\", \"acc_etl\") \\\n",
    "    .option(\"password\", \"Vnpt123456\") \\\n",
    "    .mode(\"append\") \\\n",
    "    .save()"
   ]
  }
 ],
 "metadata": {
  "kernelspec": {
   "display_name": "Python 3 (ipykernel)",
   "language": "python",
   "name": "python3"
  },
  "language_info": {
   "codemirror_mode": {
    "name": "ipython",
    "version": 3
   },
   "file_extension": ".py",
   "mimetype": "text/x-python",
   "name": "python",
   "nbconvert_exporter": "python",
   "pygments_lexer": "ipython3",
   "version": "3.9.18"
  }
 },
 "nbformat": 4,
 "nbformat_minor": 5
}
